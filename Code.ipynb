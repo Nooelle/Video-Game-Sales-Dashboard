import numpy as np
import pandas as pd
import plotly.express as px
import dash_bootstrap_components as dbc
from dash import Dash, html, dcc, Input, Output

df = pd.read_csv('/home/Video_Games_Sales.csv')

app=Dash(external_stylesheets=[dbc.themes.VAPOR])
app.title='The Analytics for Video Game Sales'

df2=df.Genre.value_counts().reset_index()
df3=df.Year_of_Release.value_counts().reset_index()
df4=df.Platform.value_counts().reset_index()
df5=df.groupby('Publisher')['Name'].count().reset_index()
df5=df5.sort_values('Name',ascending=False).reset_index()
df5.drop("index",axis = 1,inplace=True)
df6=df5[0:20]
df7=df.groupby('Genre')['Global_Sales'].sum().reset_index().sort_values("Global_Sales",ascending=False)
df8=df.groupby('Year_of_Release')['Global_Sales'].sum().reset_index()
df9=df.groupby('Platform')['Global_Sales'].sum().reset_index().sort_values("Global_Sales",ascending=False)
df10=df.groupby('Publisher')['Global_Sales'].sum().reset_index().sort_values("Global_Sales",ascending=False)
df11=df10[0:30]
df12=df.groupby('Year_of_Release')['Name'].count().reset_index().sort_values("Name",ascending=False)
df13=df.groupby('Year_of_Release')['NA_Sales'].sum().reset_index().sort_values("Year_of_Release",ascending=True)
df14=df.groupby('Year_of_Release')['EU_Sales'].sum().reset_index().sort_values("Year_of_Release",ascending=True)
df15=df.groupby('Year_of_Release')['JP_Sales'].sum().reset_index().sort_values("Year_of_Release",ascending=True)
df16=df.groupby('Year_of_Release')['Other_Sales'].sum().reset_index().sort_values("Year_of_Release",ascending=True)
df3["index"][0]

card_content1 = [dbc.CardBody([
            html.H1("Highest Sales Category ", className="genre"),
            html.Hr(),
            html.H2(df7['Genre'][0]+": "+"$"+str(df7['Global_Sales'][0])+" M",className="genre_card"
                   )])]

card_content2 = [dbc.CardBody([
            html.H1("Highest Publisher ", className="Publisher"),
            html.Hr(),
            html.H2(df10['Publisher'][359]+": "+"$"+str(df10['Global_Sales'][359])+" M",className="Publisher_card"
                   )])]

card_content3 = [dbc.CardBody([
            html.H1("Highest Sales Platform ", className="platform"),
            html.Hr(),
            html.H2(df9['Platform'][16]+": "+"$"+str(df9['Global_Sales'][16])+" M",className="platform_card",
                   )])]

tab_style = {
    'borderBottom': '1px solid #d6d6d6',
    'padding': '6px',
    'fontWeight': 'bold',
    'backgroundColor':'white',
    'color':"#36454F",
}
tab_selected_style = {
    'borderTop': '1px solid #d6d6d6',
    'borderBottom': '1px solid #d6d6d6',
    'backgroundColor':'#36454F',
    'color': "white",
    'padding': '6px'
}


app.layout = html.Div([
    
    
    
    dbc.Row(dbc.Col(html.H1("The Analytics for Video Game Sales",style={'textAlign': 'center','backgroundColor':'#76528BFF',
                                                            'color':'white','border':15,'fontsize':70,'height':60}))),

    dbc.Row([
        dbc.Col([dcc.Tabs(id="tabs-styled-with-inline", value='All', children=[
            dcc.Tab(label='All platforms', value='All',selected_style=tab_selected_style, style=tab_style),
            dcc.Tab(label='PS2', value='PS2',selected_style=tab_selected_style,style=tab_style),
            dcc.Tab(label='PS3', value='PS3',selected_style=tab_selected_style, style=tab_style),
            dcc.Tab(label='Wii', value='Wii',selected_style=tab_selected_style, style=tab_style),
            dcc.Tab(label='PC', value='PC',selected_style=tab_selected_style, style=tab_style),
            dcc.Tab(label='XB', value='XB',selected_style=tab_selected_style, style=tab_style),
        ], style={'margin-left': '10px','margin-right': '10px'}) ])]),
    
    dbc.Row([
        dbc.Col([
            html.Div([
            dcc.Graph(id='fig_1', style={'width': '50%', 'display':'inline-block'}),
            dcc.Graph(id='fig_2',style={'width': '50%', 'display':'inline-block'}),
            ]) ]) ]),
    
    html.Br(),
    
    dbc.Row([dbc.Col([dbc.Card(card_content1
                               ,color="#76528BFF" ,inverse=True,style={'border-radius':'25px'})], width=4),
             
             dbc.Col([dbc.Card(card_content2
                               ,color="#76528BFF" ,inverse=True,style={'border-radius':'25px'})], width=4),
             
             dbc.Col([dbc.Card(card_content3
                               ,color="#76528BFF",inverse=True,style={'border-radius':'25px'})], width=4)],
            className="mb-4",style={'margin-left': '10px','margin-right': '10px'}),
    
    dbc.Row([
        
    dbc.Col(html.Div(dcc.Graph(figure=px.pie(df2,values= df2['Genre'],labels=df2['index'],names=df2['index'],hole=.6,
                    title="What genre games have been made the most?",width=400,
                            color_discrete_sequence=px.colors.sequential.Sunset).update_layout(plot_bgcolor="#e5ecf6",paper_bgcolor="#e5ecf6")
                              ))),
                  
    dbc.Col(html.Div(dcc.Graph(figure=px.bar(df3,x= df3['index'],y=df3['Year_of_Release'],
                    title="Which Year had the most game release?").update_layout(plot_bgcolor="#e5ecf6",paper_bgcolor="#e5ecf6")
                              )),width=4),
                  
    dbc.Col(html.Div(dcc.Graph(figure=px.scatter(df4,x = df4['index'],y=df4['Platform'], color = 'Platform', size = df.Platform.value_counts(), 
                    title="Which platform had the most game release").update_layout(plot_bgcolor="#e5ecf6",paper_bgcolor="#e5ecf6")
                              )),width=4),
    dbc.Row(dcc.Dropdown(['Genre_using_Pie','Top_publishers','Highest_Sales_Genre',
              'Highest_Sales_Year','Highest_Sales_Platform','Highest_Sales_Publisher','region_sales_byGenre',
              'NA_Sales','EU_Sales','JP_Sales','Other_Sales'],style={'text-align': 'center',"color":"black"},
             id='Dropdown1',placeholder='Please Choose')),
    dbc.Row(dcc.Graph(id="Graph6"))
    ]),
    
]
            ,style={"color":"black",'text-align': 'center','backgroundColor':'#e5ecf6'})


@app.callback(Output('fig_1', 'figure'),
              Input('tabs-styled-with-inline', 'value'),
              #Input('Year_slider', 'value')
              )
def update_graph(tab):
    
    sub=df.query("Platform == ('PS2', 'PS3','Wii','PC','XB') ")    
    sub=sub.pivot_table('Global_Sales', ['Year_of_Release', 'Platform'], aggfunc='sum').reset_index()

    if tab == 'All':
        x=sub["Year_of_Release"]
        y=sub['Global_Sales']
        x,y = zip(*sorted(zip(x,y),key=lambda x: x[0]))
        fig = px.line(sub,x, y, color="Platform", title='Yearly global sales by platforms ')

    elif tab == 'PS2':
        ps2=sub.query("Platform=='PS2'")
        x=ps2["Year_of_Release"]
        y=ps2['Global_Sales']
        x,y = zip(*sorted(zip(x,y),key=lambda x: x[0]))
        fig = px.line(ps2,x, y, title='Yearly global sales by platforms ')

    elif tab == 'PS3':
        ps3=sub.query("Platform=='PS3'")
        x=ps3["Year_of_Release"]
        y=ps3['Global_Sales']
        x,y = zip(*sorted(zip(x,y),key=lambda x: x[0]))
        fig = px.line(ps3,x, y, title='Yearly global sales by platforms ')

    
    elif tab == 'Wii':
        wii=sub.query("Platform=='Wii'")
        x=wii["Year_of_Release"]
        y=wii['Global_Sales']
        x,y = zip(*sorted(zip(x,y),key=lambda x: x[0]))
        fig = px.line(wii,x, y, title='Yearly global sales by platforms ')

    elif tab == 'PC':
        pc=sub.query("Platform=='PC'")
        x=pc["Year_of_Release"]
        y=pc['Global_Sales']
        x,y = zip(*sorted(zip(x,y),key=lambda x: x[0]))
        fig = px.line(pc,x, y, title='Yearly global sales by platforms ')

    elif tab == 'XB':
        xb=sub.query("Platform=='XB'")
        x=xb["Year_of_Release"]
        y=xb['Global_Sales']
        x,y = zip(*sorted(zip(x,y),key=lambda x: x[0]))
        fig = px.line(xb,x, y, title='Yearly global sales by platforms ')

    fig.update_xaxes(title='Platform')
    fig.update_yaxes(title='Platform Total sales (M)')
    fig.update_layout(plot_bgcolor="#e5ecf6",paper_bgcolor="#e5ecf6")
    return fig

@app.callback(Output('fig_2', 'figure'),
              Input('tabs-styled-with-inline', 'value'))

def update_graph(tab):
    #sub dataset
    sub=df.query("Platform == ('PS2', 'PS3','Wii','PC','XB') and Publisher == ('Nintendo', 'Electronic Arts', 'Activision','Sony Computer Entertainment', 'Ubisoft', 'Take-Two Interactive', 'THQ','Konami Digital Entertainment', 'Sega', 'Namco Bandai Games')")    
    
    if tab == 'All':
        fig= px.histogram(sub,x='Publisher', y='Global_Sales', color='Platform',barmode='group',title='Platform sales by publisher' )
        fig.update_layout(plot_bgcolor="#e5ecf6",paper_bgcolor="#e5ecf6")
        return fig

    elif tab == 'PS2':
        ps2=sub.query("Platform=='PS2'")
        fig= px.histogram(ps2,x='Publisher', y='Global_Sales', color='Platform',barmode='group',title='Platform sales by publisher' )
        fig.layout.update(showlegend=False,plot_bgcolor="#e5ecf6",paper_bgcolor="#e5ecf6")
        return fig

    elif tab == 'PS3':
        ps3=sub.query("Platform=='PS3'")
        fig= px.histogram(ps3,x='Publisher', y='Global_Sales', color='Platform',barmode='group',title='Platform sales by publisher' )
        fig.layout.update(showlegend=False,plot_bgcolor="#e5ecf6",paper_bgcolor="#e5ecf6")
        return fig

    elif tab == 'Wii':
        wii=sub.query("Platform=='Wii'")
        fig= px.histogram(wii,x='Publisher', y='Global_Sales', color='Platform',barmode='group',title='Platform sales by publisher' )
        fig.layout.update(showlegend=False,plot_bgcolor="#e5ecf6",paper_bgcolor="#e5ecf6")
        return fig

    elif tab == 'PC':
        pc=sub.query("Platform=='PC'")
        fig= px.histogram(pc,x='Publisher', y='Global_Sales', color='Platform',barmode='group',title='Platform sales by publisher' )
        fig.layout.update(showlegend=False,plot_bgcolor="#e5ecf6",paper_bgcolor="#e5ecf6")
        return fig

    elif tab == 'XB':
        xb=sub.query("Platform=='XB'")
        fig= px.histogram(xb,x='Publisher', y='Global_Sales', color='Platform',barmode='group',title='Platform sales by publisher' )
        fig.layout.update(showlegend=False,plot_bgcolor="#e5ecf6",paper_bgcolor="#e5ecf6")
        return fig


@app.callback(
    Output(component_id='Graph6',component_property='figure'),
    Input(component_id='Dropdown1',component_property='value'))

def New_update(x): 
    if x==None:
        fig1=px.bar(df2,x=df2['index'],y=df2['Genre'],title="What genre games have been made the most?")
        
    elif x=='Genre_using_Pie':
        fig1=px.pie(df2,values= df2['Genre'],labels=df2['index'],names=df2['index'],title="What genre games have been made the most?")
        
    elif x=='Top_publishers':
        fig1=px.bar(df6,x= df6['Publisher'],y=df6['Name'],title="What are the top publishers?")
        
    elif x=='Highest_Sales_Genre':
        fig1=px.pie(df7,values= df7['Global_Sales'],labels=df2['Genre'],names=df7['Genre'],title="Which genre have Highest_Sales?")
        fig1.update_traces(rotation=90, pull=[0.12,0.06,0.06,0.06,0.06], textinfo="percent+label")
        
    elif x=='Highest_Sales_Year':
        fig1=px.bar(x=df8['Year_of_Release'],y=df8['Global_Sales'],title="Which year had the highest sales WORLDWIDE?")
        
    elif x=='Highest_Sales_Platform':
        fig1=px.bar(x=df9['Platform'],y=df9['Global_Sales'],title="What is the highest sales platform WORLDWIDE?")
        
    elif x=='Highest_Sales_Publisher':
        fig1=px.bar(x=df11['Publisher'],y=df11['Global_Sales'],title="Which Publisher had the highest sales WORLDWIDE?")
        
    elif x=='region_sales_byGenre':
        fig1=px.bar(x=df12['Year_of_Release'],y=df12['Name'],title="Which Year had the most game release?")
        
    elif x=='NA_Sales':# in millions
        fig1=px.bar(x=df13['Year_of_Release'],y=df13['NA_Sales'],title="What is the highest year sales byGenre in North America?")
        
    elif x=='EU_Sales':# in millions
        fig1=px.bar(x=df14['Year_of_Release'],y=df14['EU_Sales'],title="What is the highest year sales byGenre in Europe?") 
        
    elif x=='JP_Sales':#in millions
        fig1=px.bar(x=df15['Year_of_Release'],y=df15['JP_Sales'],title="What is the highest year sales byGenre in Japan?")   
        
    elif x=='Other_Sales':#in millions
        fig1=px.bar(x=df16['Year_of_Release'],y=df16['Other_Sales'],title="What is the highest year sales byGenre in WORLDWIDE?") 
        
    elif x=='test':
        fig1=px.pie(df2,values= df2['Genre'],labels=df2['index'],names=df2['index'],hole=.5,title="What genre games have been made the most?")
        
    return fig1.update_layout(plot_bgcolor="#e5ecf6",paper_bgcolor="#e5ecf6")

if __name__ == '__main__':
    app.run_server(debug=True)
